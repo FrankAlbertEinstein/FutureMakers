{
  "nbformat": 4,
  "nbformat_minor": 0,
  "metadata": {
    "colab": {
      "name": "Day 18 (7-23) - Project (Supplemental) on Creating a Model for House Prices (Regression).ipynb",
      "provenance": [],
      "authorship_tag": "ABX9TyNtbFvux5z1Tfn5iiXUwvFk",
      "include_colab_link": true
    },
    "kernelspec": {
      "name": "python3",
      "display_name": "Python 3"
    },
    "language_info": {
      "name": "python"
    }
  },
  "cells": [
    {
      "cell_type": "markdown",
      "metadata": {
        "id": "view-in-github",
        "colab_type": "text"
      },
      "source": [
        "<a href=\"https://colab.research.google.com/github/aviaga/FutureMakers/blob/main/Day%2018%20(7-23)%20-%20Project%20(Supplemental)%20on%20Creating%20a%20Model%20for%20House%20Prices%20(Regression).ipynb\" target=\"_parent\"><img src=\"https://colab.research.google.com/assets/colab-badge.svg\" alt=\"Open In Colab\"/></a>"
      ]
    },
    {
      "cell_type": "markdown",
      "metadata": {
        "id": "JsAbz38VLt7w"
      },
      "source": [
        "# Project Introduction\n",
        "This is the implementation of the supplimental activity of Day 18's Action Item for SureStart's summer program, 2021. The modified line of code is under Model 1; no other sections have been changed from earlier. \n",
        "\n",
        "The tutorial for this model development activity can be found [ here](https://hackernoon.com/build-your-first-neural-network-to-predict-house-prices-with-keras-3fb0839680f4)\n",
        "\n"
      ]
    },
    {
      "cell_type": "markdown",
      "metadata": {
        "id": "Xh11EA5VLIt0"
      },
      "source": [
        "# Model 1"
      ]
    },
    {
      "cell_type": "markdown",
      "metadata": {
        "id": "toQyYkNy6bLJ"
      },
      "source": [
        " **Data Preprocessing Steps**"
      ]
    },
    {
      "cell_type": "code",
      "metadata": {
        "id": "sElmQypqaprH"
      },
      "source": [
        "#Importing necessary libraries\n",
        "import pandas as pd\n",
        "from sklearn import preprocessing\n",
        "from sklearn.model_selection import train_test_split\n",
        "import tensorflow as tf\n"
      ],
      "execution_count": 23,
      "outputs": []
    },
    {
      "cell_type": "code",
      "metadata": {
        "id": "uVrLCVvobdpx",
        "colab": {
          "resources": {
            "http://localhost:8080/nbextensions/google.colab/files.js": {
              "data": "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",
              "ok": true,
              "headers": [
                [
                  "content-type",
                  "application/javascript"
                ]
              ],
              "status": 200,
              "status_text": ""
            }
          },
          "base_uri": "https://localhost:8080/",
          "height": 73
        },
        "outputId": "812a13be-c0b4-4786-bf99-8a6b26d9c20e"
      },
      "source": [
        "#Importing dataset \n",
        "from google.colab import files\n",
        "uploaded = files.upload()"
      ],
      "execution_count": 24,
      "outputs": [
        {
          "output_type": "display_data",
          "data": {
            "text/html": [
              "\n",
              "     <input type=\"file\" id=\"files-5c2eadb8-7359-4471-bfa7-cef4d0c139f1\" name=\"files[]\" multiple disabled\n",
              "        style=\"border:none\" />\n",
              "     <output id=\"result-5c2eadb8-7359-4471-bfa7-cef4d0c139f1\">\n",
              "      Upload widget is only available when the cell has been executed in the\n",
              "      current browser session. Please rerun this cell to enable.\n",
              "      </output>\n",
              "      <script src=\"/nbextensions/google.colab/files.js\"></script> "
            ],
            "text/plain": [
              "<IPython.core.display.HTML object>"
            ]
          },
          "metadata": {
            "tags": []
          }
        },
        {
          "output_type": "stream",
          "text": [
            "Saving housepricedata.csv to housepricedata (1).csv\n"
          ],
          "name": "stdout"
        }
      ]
    },
    {
      "cell_type": "code",
      "metadata": {
        "id": "KLkuMd3adBUU"
      },
      "source": [
        "#Importing dataset\n",
        "import io\n",
        "df = pd.read_csv(io.BytesIO(uploaded['housepricedata.csv']))"
      ],
      "execution_count": 25,
      "outputs": []
    },
    {
      "cell_type": "code",
      "metadata": {
        "id": "OQh96qXr-ysW",
        "colab": {
          "base_uri": "https://localhost:8080/",
          "height": 417
        },
        "outputId": "dcd7b0fb-3491-4e89-e5fa-ddeb1392de62"
      },
      "source": [
        "df"
      ],
      "execution_count": 26,
      "outputs": [
        {
          "output_type": "execute_result",
          "data": {
            "text/html": [
              "<div>\n",
              "<style scoped>\n",
              "    .dataframe tbody tr th:only-of-type {\n",
              "        vertical-align: middle;\n",
              "    }\n",
              "\n",
              "    .dataframe tbody tr th {\n",
              "        vertical-align: top;\n",
              "    }\n",
              "\n",
              "    .dataframe thead th {\n",
              "        text-align: right;\n",
              "    }\n",
              "</style>\n",
              "<table border=\"1\" class=\"dataframe\">\n",
              "  <thead>\n",
              "    <tr style=\"text-align: right;\">\n",
              "      <th></th>\n",
              "      <th>LotArea</th>\n",
              "      <th>OverallQual</th>\n",
              "      <th>OverallCond</th>\n",
              "      <th>TotalBsmtSF</th>\n",
              "      <th>FullBath</th>\n",
              "      <th>HalfBath</th>\n",
              "      <th>BedroomAbvGr</th>\n",
              "      <th>TotRmsAbvGrd</th>\n",
              "      <th>Fireplaces</th>\n",
              "      <th>GarageArea</th>\n",
              "      <th>AboveMedianPrice</th>\n",
              "    </tr>\n",
              "  </thead>\n",
              "  <tbody>\n",
              "    <tr>\n",
              "      <th>0</th>\n",
              "      <td>8450</td>\n",
              "      <td>7</td>\n",
              "      <td>5</td>\n",
              "      <td>856</td>\n",
              "      <td>2</td>\n",
              "      <td>1</td>\n",
              "      <td>3</td>\n",
              "      <td>8</td>\n",
              "      <td>0</td>\n",
              "      <td>548</td>\n",
              "      <td>1</td>\n",
              "    </tr>\n",
              "    <tr>\n",
              "      <th>1</th>\n",
              "      <td>9600</td>\n",
              "      <td>6</td>\n",
              "      <td>8</td>\n",
              "      <td>1262</td>\n",
              "      <td>2</td>\n",
              "      <td>0</td>\n",
              "      <td>3</td>\n",
              "      <td>6</td>\n",
              "      <td>1</td>\n",
              "      <td>460</td>\n",
              "      <td>1</td>\n",
              "    </tr>\n",
              "    <tr>\n",
              "      <th>2</th>\n",
              "      <td>11250</td>\n",
              "      <td>7</td>\n",
              "      <td>5</td>\n",
              "      <td>920</td>\n",
              "      <td>2</td>\n",
              "      <td>1</td>\n",
              "      <td>3</td>\n",
              "      <td>6</td>\n",
              "      <td>1</td>\n",
              "      <td>608</td>\n",
              "      <td>1</td>\n",
              "    </tr>\n",
              "    <tr>\n",
              "      <th>3</th>\n",
              "      <td>9550</td>\n",
              "      <td>7</td>\n",
              "      <td>5</td>\n",
              "      <td>756</td>\n",
              "      <td>1</td>\n",
              "      <td>0</td>\n",
              "      <td>3</td>\n",
              "      <td>7</td>\n",
              "      <td>1</td>\n",
              "      <td>642</td>\n",
              "      <td>0</td>\n",
              "    </tr>\n",
              "    <tr>\n",
              "      <th>4</th>\n",
              "      <td>14260</td>\n",
              "      <td>8</td>\n",
              "      <td>5</td>\n",
              "      <td>1145</td>\n",
              "      <td>2</td>\n",
              "      <td>1</td>\n",
              "      <td>4</td>\n",
              "      <td>9</td>\n",
              "      <td>1</td>\n",
              "      <td>836</td>\n",
              "      <td>1</td>\n",
              "    </tr>\n",
              "    <tr>\n",
              "      <th>...</th>\n",
              "      <td>...</td>\n",
              "      <td>...</td>\n",
              "      <td>...</td>\n",
              "      <td>...</td>\n",
              "      <td>...</td>\n",
              "      <td>...</td>\n",
              "      <td>...</td>\n",
              "      <td>...</td>\n",
              "      <td>...</td>\n",
              "      <td>...</td>\n",
              "      <td>...</td>\n",
              "    </tr>\n",
              "    <tr>\n",
              "      <th>1455</th>\n",
              "      <td>7917</td>\n",
              "      <td>6</td>\n",
              "      <td>5</td>\n",
              "      <td>953</td>\n",
              "      <td>2</td>\n",
              "      <td>1</td>\n",
              "      <td>3</td>\n",
              "      <td>7</td>\n",
              "      <td>1</td>\n",
              "      <td>460</td>\n",
              "      <td>1</td>\n",
              "    </tr>\n",
              "    <tr>\n",
              "      <th>1456</th>\n",
              "      <td>13175</td>\n",
              "      <td>6</td>\n",
              "      <td>6</td>\n",
              "      <td>1542</td>\n",
              "      <td>2</td>\n",
              "      <td>0</td>\n",
              "      <td>3</td>\n",
              "      <td>7</td>\n",
              "      <td>2</td>\n",
              "      <td>500</td>\n",
              "      <td>1</td>\n",
              "    </tr>\n",
              "    <tr>\n",
              "      <th>1457</th>\n",
              "      <td>9042</td>\n",
              "      <td>7</td>\n",
              "      <td>9</td>\n",
              "      <td>1152</td>\n",
              "      <td>2</td>\n",
              "      <td>0</td>\n",
              "      <td>4</td>\n",
              "      <td>9</td>\n",
              "      <td>2</td>\n",
              "      <td>252</td>\n",
              "      <td>1</td>\n",
              "    </tr>\n",
              "    <tr>\n",
              "      <th>1458</th>\n",
              "      <td>9717</td>\n",
              "      <td>5</td>\n",
              "      <td>6</td>\n",
              "      <td>1078</td>\n",
              "      <td>1</td>\n",
              "      <td>0</td>\n",
              "      <td>2</td>\n",
              "      <td>5</td>\n",
              "      <td>0</td>\n",
              "      <td>240</td>\n",
              "      <td>0</td>\n",
              "    </tr>\n",
              "    <tr>\n",
              "      <th>1459</th>\n",
              "      <td>9937</td>\n",
              "      <td>5</td>\n",
              "      <td>6</td>\n",
              "      <td>1256</td>\n",
              "      <td>1</td>\n",
              "      <td>1</td>\n",
              "      <td>3</td>\n",
              "      <td>6</td>\n",
              "      <td>0</td>\n",
              "      <td>276</td>\n",
              "      <td>0</td>\n",
              "    </tr>\n",
              "  </tbody>\n",
              "</table>\n",
              "<p>1460 rows × 11 columns</p>\n",
              "</div>"
            ],
            "text/plain": [
              "      LotArea  OverallQual  ...  GarageArea  AboveMedianPrice\n",
              "0        8450            7  ...         548                 1\n",
              "1        9600            6  ...         460                 1\n",
              "2       11250            7  ...         608                 1\n",
              "3        9550            7  ...         642                 0\n",
              "4       14260            8  ...         836                 1\n",
              "...       ...          ...  ...         ...               ...\n",
              "1455     7917            6  ...         460                 1\n",
              "1456    13175            6  ...         500                 1\n",
              "1457     9042            7  ...         252                 1\n",
              "1458     9717            5  ...         240                 0\n",
              "1459     9937            5  ...         276                 0\n",
              "\n",
              "[1460 rows x 11 columns]"
            ]
          },
          "metadata": {
            "tags": []
          },
          "execution_count": 26
        }
      ]
    },
    {
      "cell_type": "code",
      "metadata": {
        "id": "Otsyw9HOdWh3"
      },
      "source": [
        "#Converting data to array format\n",
        "dataset = df.values"
      ],
      "execution_count": 27,
      "outputs": []
    },
    {
      "cell_type": "code",
      "metadata": {
        "id": "or5tEvNj3nc-"
      },
      "source": [
        "#Assigning first 10 columns of data in array to x\n",
        "X = dataset[:,0:10]"
      ],
      "execution_count": 28,
      "outputs": []
    },
    {
      "cell_type": "code",
      "metadata": {
        "id": "g7VZ_Csd4HSf"
      },
      "source": [
        "#Assigning last column of data in array to y\n",
        "Y = dataset[:,10]"
      ],
      "execution_count": 29,
      "outputs": []
    },
    {
      "cell_type": "code",
      "metadata": {
        "id": "S5joxzVb4pxt"
      },
      "source": [
        "#Scaling data for normalization\n",
        "min_max_scaler = preprocessing.MinMaxScaler()\n",
        "X_scale = min_max_scaler.fit_transform(X)"
      ],
      "execution_count": 30,
      "outputs": []
    },
    {
      "cell_type": "code",
      "metadata": {
        "id": "QSobnnac46jG",
        "colab": {
          "base_uri": "https://localhost:8080/"
        },
        "outputId": "d434a70e-cda6-4933-fc7f-cc0983f15c8e"
      },
      "source": [
        "X_scale"
      ],
      "execution_count": 31,
      "outputs": [
        {
          "output_type": "execute_result",
          "data": {
            "text/plain": [
              "array([[0.0334198 , 0.66666667, 0.5       , ..., 0.5       , 0.        ,\n",
              "        0.3864598 ],\n",
              "       [0.03879502, 0.55555556, 0.875     , ..., 0.33333333, 0.33333333,\n",
              "        0.32440056],\n",
              "       [0.04650728, 0.66666667, 0.5       , ..., 0.33333333, 0.33333333,\n",
              "        0.42877292],\n",
              "       ...,\n",
              "       [0.03618687, 0.66666667, 1.        , ..., 0.58333333, 0.66666667,\n",
              "        0.17771509],\n",
              "       [0.03934189, 0.44444444, 0.625     , ..., 0.25      , 0.        ,\n",
              "        0.16925247],\n",
              "       [0.04037019, 0.44444444, 0.625     , ..., 0.33333333, 0.        ,\n",
              "        0.19464034]])"
            ]
          },
          "metadata": {
            "tags": []
          },
          "execution_count": 31
        }
      ]
    },
    {
      "cell_type": "code",
      "metadata": {
        "id": "JgRIa3Vb5R__"
      },
      "source": [
        "#Splitting dataset into train, test, and validation sets\n",
        "X_train, X_val_and_test, Y_train, Y_val_and_test = train_test_split(X_scale, Y, test_size=0.3)\n",
        "X_val, X_test, Y_val, Y_test = train_test_split(X_val_and_test, Y_val_and_test, test_size=0.5)"
      ],
      "execution_count": 32,
      "outputs": []
    },
    {
      "cell_type": "code",
      "metadata": {
        "id": "6m0TcEvo5oEL",
        "colab": {
          "base_uri": "https://localhost:8080/"
        },
        "outputId": "d964e0aa-836f-4f28-de69-2d1d0302a319"
      },
      "source": [
        "print(X_train.shape, X_val.shape, X_test.shape, Y_train.shape, Y_val.shape, Y_test.shape)"
      ],
      "execution_count": 33,
      "outputs": [
        {
          "output_type": "stream",
          "text": [
            "(1022, 10) (219, 10) (219, 10) (1022,) (219,) (219,)\n"
          ],
          "name": "stdout"
        }
      ]
    },
    {
      "cell_type": "markdown",
      "metadata": {
        "id": "ZMGpSuKr7aND"
      },
      "source": [
        "**Building and Training the Model**"
      ]
    },
    {
      "cell_type": "code",
      "metadata": {
        "id": "e6q6g-gY6Gm3"
      },
      "source": [
        "#Importing necessary libraries\n",
        "from keras.models import Sequential\n",
        "from keras.layers import Dense"
      ],
      "execution_count": 34,
      "outputs": []
    },
    {
      "cell_type": "code",
      "metadata": {
        "id": "lraI8aFk7ezW"
      },
      "source": [
        "#Defining model architecture/structure\n",
        "model = Sequential([\n",
        "    Dense(32, activation='relu', input_shape=(10,)),\n",
        "    Dense(32, activation='relu'),\n",
        "    Dense(1, activation='sigmoid'),\n",
        "])"
      ],
      "execution_count": 35,
      "outputs": []
    },
    {
      "cell_type": "code",
      "metadata": {
        "id": "RMlNo-Wb7uQy"
      },
      "source": [
        "# Model configuration\n",
        "# CHANGED LOSS TO MEAN SQUARED ERROR\n",
        "model.compile(optimizer='sgd',\n",
        "              loss=tf.keras.losses.MeanSquaredError(),\n",
        "              metrics=['accuracy'])"
      ],
      "execution_count": 36,
      "outputs": []
    },
    {
      "cell_type": "code",
      "metadata": {
        "id": "I-e2ZCEI77Az",
        "colab": {
          "base_uri": "https://localhost:8080/"
        },
        "outputId": "16fc19fa-0c7c-4b70-9583-1ce6d037a6f3"
      },
      "source": [
        "#Training model\n",
        "hist = model.fit(X_train, Y_train,\n",
        "          batch_size=32, epochs=100,\n",
        "          validation_data=(X_val, Y_val))"
      ],
      "execution_count": 37,
      "outputs": [
        {
          "output_type": "stream",
          "text": [
            "Epoch 1/100\n",
            "32/32 [==============================] - 1s 11ms/step - loss: 0.2483 - accuracy: 0.5041 - val_loss: 0.2463 - val_accuracy: 0.5388\n",
            "Epoch 2/100\n",
            "32/32 [==============================] - 0s 3ms/step - loss: 0.2475 - accuracy: 0.4879 - val_loss: 0.2455 - val_accuracy: 0.5479\n",
            "Epoch 3/100\n",
            "32/32 [==============================] - 0s 2ms/step - loss: 0.2468 - accuracy: 0.4964 - val_loss: 0.2446 - val_accuracy: 0.5616\n",
            "Epoch 4/100\n",
            "32/32 [==============================] - 0s 2ms/step - loss: 0.2459 - accuracy: 0.5114 - val_loss: 0.2438 - val_accuracy: 0.5662\n",
            "Epoch 5/100\n",
            "32/32 [==============================] - 0s 2ms/step - loss: 0.2460 - accuracy: 0.5105 - val_loss: 0.2430 - val_accuracy: 0.5662\n",
            "Epoch 6/100\n",
            "32/32 [==============================] - 0s 2ms/step - loss: 0.2430 - accuracy: 0.5345 - val_loss: 0.2423 - val_accuracy: 0.5845\n",
            "Epoch 7/100\n",
            "32/32 [==============================] - 0s 2ms/step - loss: 0.2426 - accuracy: 0.5327 - val_loss: 0.2416 - val_accuracy: 0.5890\n",
            "Epoch 8/100\n",
            "32/32 [==============================] - 0s 2ms/step - loss: 0.2407 - accuracy: 0.5529 - val_loss: 0.2410 - val_accuracy: 0.5936\n",
            "Epoch 9/100\n",
            "32/32 [==============================] - 0s 2ms/step - loss: 0.2418 - accuracy: 0.5648 - val_loss: 0.2403 - val_accuracy: 0.5982\n",
            "Epoch 10/100\n",
            "32/32 [==============================] - 0s 2ms/step - loss: 0.2399 - accuracy: 0.5656 - val_loss: 0.2396 - val_accuracy: 0.6119\n",
            "Epoch 11/100\n",
            "32/32 [==============================] - 0s 2ms/step - loss: 0.2393 - accuracy: 0.5730 - val_loss: 0.2389 - val_accuracy: 0.6484\n",
            "Epoch 12/100\n",
            "32/32 [==============================] - 0s 2ms/step - loss: 0.2389 - accuracy: 0.5963 - val_loss: 0.2382 - val_accuracy: 0.6575\n",
            "Epoch 13/100\n",
            "32/32 [==============================] - 0s 3ms/step - loss: 0.2375 - accuracy: 0.6126 - val_loss: 0.2376 - val_accuracy: 0.6621\n",
            "Epoch 14/100\n",
            "32/32 [==============================] - 0s 2ms/step - loss: 0.2376 - accuracy: 0.6318 - val_loss: 0.2369 - val_accuracy: 0.6804\n",
            "Epoch 15/100\n",
            "32/32 [==============================] - 0s 2ms/step - loss: 0.2380 - accuracy: 0.6468 - val_loss: 0.2362 - val_accuracy: 0.6849\n",
            "Epoch 16/100\n",
            "32/32 [==============================] - 0s 2ms/step - loss: 0.2354 - accuracy: 0.6498 - val_loss: 0.2355 - val_accuracy: 0.7032\n",
            "Epoch 17/100\n",
            "32/32 [==============================] - 0s 2ms/step - loss: 0.2359 - accuracy: 0.6739 - val_loss: 0.2349 - val_accuracy: 0.7169\n",
            "Epoch 18/100\n",
            "32/32 [==============================] - 0s 2ms/step - loss: 0.2354 - accuracy: 0.6796 - val_loss: 0.2342 - val_accuracy: 0.7260\n",
            "Epoch 19/100\n",
            "32/32 [==============================] - 0s 2ms/step - loss: 0.2342 - accuracy: 0.7043 - val_loss: 0.2335 - val_accuracy: 0.7260\n",
            "Epoch 20/100\n",
            "32/32 [==============================] - 0s 2ms/step - loss: 0.2340 - accuracy: 0.7046 - val_loss: 0.2328 - val_accuracy: 0.7397\n",
            "Epoch 21/100\n",
            "32/32 [==============================] - 0s 2ms/step - loss: 0.2323 - accuracy: 0.7286 - val_loss: 0.2321 - val_accuracy: 0.7397\n",
            "Epoch 22/100\n",
            "32/32 [==============================] - 0s 2ms/step - loss: 0.2315 - accuracy: 0.7133 - val_loss: 0.2314 - val_accuracy: 0.7489\n",
            "Epoch 23/100\n",
            "32/32 [==============================] - 0s 2ms/step - loss: 0.2310 - accuracy: 0.7121 - val_loss: 0.2307 - val_accuracy: 0.7534\n",
            "Epoch 24/100\n",
            "32/32 [==============================] - 0s 2ms/step - loss: 0.2278 - accuracy: 0.7686 - val_loss: 0.2299 - val_accuracy: 0.7671\n",
            "Epoch 25/100\n",
            "32/32 [==============================] - 0s 2ms/step - loss: 0.2283 - accuracy: 0.7579 - val_loss: 0.2292 - val_accuracy: 0.7763\n",
            "Epoch 26/100\n",
            "32/32 [==============================] - 0s 2ms/step - loss: 0.2304 - accuracy: 0.7443 - val_loss: 0.2283 - val_accuracy: 0.7763\n",
            "Epoch 27/100\n",
            "32/32 [==============================] - 0s 2ms/step - loss: 0.2280 - accuracy: 0.7477 - val_loss: 0.2276 - val_accuracy: 0.7808\n",
            "Epoch 28/100\n",
            "32/32 [==============================] - 0s 2ms/step - loss: 0.2268 - accuracy: 0.7662 - val_loss: 0.2268 - val_accuracy: 0.7854\n",
            "Epoch 29/100\n",
            "32/32 [==============================] - 0s 2ms/step - loss: 0.2269 - accuracy: 0.7633 - val_loss: 0.2259 - val_accuracy: 0.7854\n",
            "Epoch 30/100\n",
            "32/32 [==============================] - 0s 3ms/step - loss: 0.2254 - accuracy: 0.7745 - val_loss: 0.2250 - val_accuracy: 0.7808\n",
            "Epoch 31/100\n",
            "32/32 [==============================] - 0s 2ms/step - loss: 0.2236 - accuracy: 0.7802 - val_loss: 0.2242 - val_accuracy: 0.7900\n",
            "Epoch 32/100\n",
            "32/32 [==============================] - 0s 2ms/step - loss: 0.2243 - accuracy: 0.7834 - val_loss: 0.2233 - val_accuracy: 0.7945\n",
            "Epoch 33/100\n",
            "32/32 [==============================] - 0s 2ms/step - loss: 0.2229 - accuracy: 0.7619 - val_loss: 0.2225 - val_accuracy: 0.7991\n",
            "Epoch 34/100\n",
            "32/32 [==============================] - 0s 2ms/step - loss: 0.2194 - accuracy: 0.7903 - val_loss: 0.2216 - val_accuracy: 0.7991\n",
            "Epoch 35/100\n",
            "32/32 [==============================] - 0s 2ms/step - loss: 0.2214 - accuracy: 0.7895 - val_loss: 0.2206 - val_accuracy: 0.8037\n",
            "Epoch 36/100\n",
            "32/32 [==============================] - 0s 2ms/step - loss: 0.2182 - accuracy: 0.7854 - val_loss: 0.2197 - val_accuracy: 0.8037\n",
            "Epoch 37/100\n",
            "32/32 [==============================] - 0s 2ms/step - loss: 0.2184 - accuracy: 0.7849 - val_loss: 0.2187 - val_accuracy: 0.8037\n",
            "Epoch 38/100\n",
            "32/32 [==============================] - 0s 2ms/step - loss: 0.2156 - accuracy: 0.7961 - val_loss: 0.2177 - val_accuracy: 0.8037\n",
            "Epoch 39/100\n",
            "32/32 [==============================] - 0s 2ms/step - loss: 0.2179 - accuracy: 0.7782 - val_loss: 0.2167 - val_accuracy: 0.8037\n",
            "Epoch 40/100\n",
            "32/32 [==============================] - 0s 2ms/step - loss: 0.2137 - accuracy: 0.8037 - val_loss: 0.2156 - val_accuracy: 0.8037\n",
            "Epoch 41/100\n",
            "32/32 [==============================] - 0s 2ms/step - loss: 0.2141 - accuracy: 0.7832 - val_loss: 0.2145 - val_accuracy: 0.8037\n",
            "Epoch 42/100\n",
            "32/32 [==============================] - 0s 2ms/step - loss: 0.2103 - accuracy: 0.8039 - val_loss: 0.2134 - val_accuracy: 0.8037\n",
            "Epoch 43/100\n",
            "32/32 [==============================] - 0s 2ms/step - loss: 0.2135 - accuracy: 0.7805 - val_loss: 0.2123 - val_accuracy: 0.8128\n",
            "Epoch 44/100\n",
            "32/32 [==============================] - 0s 2ms/step - loss: 0.2114 - accuracy: 0.7873 - val_loss: 0.2112 - val_accuracy: 0.8082\n",
            "Epoch 45/100\n",
            "32/32 [==============================] - 0s 2ms/step - loss: 0.2108 - accuracy: 0.7725 - val_loss: 0.2099 - val_accuracy: 0.8082\n",
            "Epoch 46/100\n",
            "32/32 [==============================] - 0s 2ms/step - loss: 0.2044 - accuracy: 0.8090 - val_loss: 0.2087 - val_accuracy: 0.8128\n",
            "Epoch 47/100\n",
            "32/32 [==============================] - 0s 2ms/step - loss: 0.2067 - accuracy: 0.7972 - val_loss: 0.2074 - val_accuracy: 0.8219\n",
            "Epoch 48/100\n",
            "32/32 [==============================] - 0s 2ms/step - loss: 0.2044 - accuracy: 0.8119 - val_loss: 0.2062 - val_accuracy: 0.8219\n",
            "Epoch 49/100\n",
            "32/32 [==============================] - 0s 2ms/step - loss: 0.2007 - accuracy: 0.8119 - val_loss: 0.2048 - val_accuracy: 0.8219\n",
            "Epoch 50/100\n",
            "32/32 [==============================] - 0s 2ms/step - loss: 0.2005 - accuracy: 0.8126 - val_loss: 0.2036 - val_accuracy: 0.8447\n",
            "Epoch 51/100\n",
            "32/32 [==============================] - 0s 2ms/step - loss: 0.1999 - accuracy: 0.8108 - val_loss: 0.2021 - val_accuracy: 0.8493\n",
            "Epoch 52/100\n",
            "32/32 [==============================] - 0s 2ms/step - loss: 0.1988 - accuracy: 0.8246 - val_loss: 0.2007 - val_accuracy: 0.8539\n",
            "Epoch 53/100\n",
            "32/32 [==============================] - 0s 2ms/step - loss: 0.1962 - accuracy: 0.8216 - val_loss: 0.1992 - val_accuracy: 0.8539\n",
            "Epoch 54/100\n",
            "32/32 [==============================] - 0s 2ms/step - loss: 0.1955 - accuracy: 0.8107 - val_loss: 0.1979 - val_accuracy: 0.8539\n",
            "Epoch 55/100\n",
            "32/32 [==============================] - 0s 2ms/step - loss: 0.1963 - accuracy: 0.8185 - val_loss: 0.1962 - val_accuracy: 0.8539\n",
            "Epoch 56/100\n",
            "32/32 [==============================] - 0s 2ms/step - loss: 0.1938 - accuracy: 0.8270 - val_loss: 0.1947 - val_accuracy: 0.8539\n",
            "Epoch 57/100\n",
            "32/32 [==============================] - 0s 2ms/step - loss: 0.1899 - accuracy: 0.8121 - val_loss: 0.1933 - val_accuracy: 0.8493\n",
            "Epoch 58/100\n",
            "32/32 [==============================] - 0s 3ms/step - loss: 0.1898 - accuracy: 0.8376 - val_loss: 0.1917 - val_accuracy: 0.8493\n",
            "Epoch 59/100\n",
            "32/32 [==============================] - 0s 2ms/step - loss: 0.1857 - accuracy: 0.8390 - val_loss: 0.1904 - val_accuracy: 0.8402\n",
            "Epoch 60/100\n",
            "32/32 [==============================] - 0s 2ms/step - loss: 0.1849 - accuracy: 0.8480 - val_loss: 0.1887 - val_accuracy: 0.8447\n",
            "Epoch 61/100\n",
            "32/32 [==============================] - 0s 2ms/step - loss: 0.1839 - accuracy: 0.8456 - val_loss: 0.1872 - val_accuracy: 0.8493\n",
            "Epoch 62/100\n",
            "32/32 [==============================] - 0s 2ms/step - loss: 0.1829 - accuracy: 0.8439 - val_loss: 0.1857 - val_accuracy: 0.8447\n",
            "Epoch 63/100\n",
            "32/32 [==============================] - 0s 2ms/step - loss: 0.1780 - accuracy: 0.8640 - val_loss: 0.1841 - val_accuracy: 0.8447\n",
            "Epoch 64/100\n",
            "32/32 [==============================] - 0s 2ms/step - loss: 0.1754 - accuracy: 0.8680 - val_loss: 0.1825 - val_accuracy: 0.8539\n",
            "Epoch 65/100\n",
            "32/32 [==============================] - 0s 2ms/step - loss: 0.1772 - accuracy: 0.8440 - val_loss: 0.1810 - val_accuracy: 0.8539\n",
            "Epoch 66/100\n",
            "32/32 [==============================] - 0s 2ms/step - loss: 0.1742 - accuracy: 0.8447 - val_loss: 0.1793 - val_accuracy: 0.8539\n",
            "Epoch 67/100\n",
            "32/32 [==============================] - 0s 2ms/step - loss: 0.1766 - accuracy: 0.8511 - val_loss: 0.1775 - val_accuracy: 0.8539\n",
            "Epoch 68/100\n",
            "32/32 [==============================] - 0s 2ms/step - loss: 0.1750 - accuracy: 0.8463 - val_loss: 0.1760 - val_accuracy: 0.8539\n",
            "Epoch 69/100\n",
            "32/32 [==============================] - 0s 2ms/step - loss: 0.1694 - accuracy: 0.8506 - val_loss: 0.1744 - val_accuracy: 0.8539\n",
            "Epoch 70/100\n",
            "32/32 [==============================] - 0s 2ms/step - loss: 0.1688 - accuracy: 0.8466 - val_loss: 0.1728 - val_accuracy: 0.8584\n",
            "Epoch 71/100\n",
            "32/32 [==============================] - 0s 2ms/step - loss: 0.1680 - accuracy: 0.8542 - val_loss: 0.1713 - val_accuracy: 0.8676\n",
            "Epoch 72/100\n",
            "32/32 [==============================] - 0s 2ms/step - loss: 0.1648 - accuracy: 0.8513 - val_loss: 0.1695 - val_accuracy: 0.8676\n",
            "Epoch 73/100\n",
            "32/32 [==============================] - 0s 2ms/step - loss: 0.1646 - accuracy: 0.8387 - val_loss: 0.1679 - val_accuracy: 0.8676\n",
            "Epoch 74/100\n",
            "32/32 [==============================] - 0s 2ms/step - loss: 0.1603 - accuracy: 0.8580 - val_loss: 0.1663 - val_accuracy: 0.8676\n",
            "Epoch 75/100\n",
            "32/32 [==============================] - 0s 2ms/step - loss: 0.1567 - accuracy: 0.8689 - val_loss: 0.1649 - val_accuracy: 0.8584\n",
            "Epoch 76/100\n",
            "32/32 [==============================] - 0s 2ms/step - loss: 0.1568 - accuracy: 0.8528 - val_loss: 0.1634 - val_accuracy: 0.8584\n",
            "Epoch 77/100\n",
            "32/32 [==============================] - 0s 2ms/step - loss: 0.1566 - accuracy: 0.8605 - val_loss: 0.1616 - val_accuracy: 0.8630\n",
            "Epoch 78/100\n",
            "32/32 [==============================] - 0s 2ms/step - loss: 0.1544 - accuracy: 0.8611 - val_loss: 0.1601 - val_accuracy: 0.8630\n",
            "Epoch 79/100\n",
            "32/32 [==============================] - 0s 2ms/step - loss: 0.1512 - accuracy: 0.8610 - val_loss: 0.1585 - val_accuracy: 0.8584\n",
            "Epoch 80/100\n",
            "32/32 [==============================] - 0s 2ms/step - loss: 0.1507 - accuracy: 0.8721 - val_loss: 0.1569 - val_accuracy: 0.8584\n",
            "Epoch 81/100\n",
            "32/32 [==============================] - 0s 2ms/step - loss: 0.1516 - accuracy: 0.8451 - val_loss: 0.1555 - val_accuracy: 0.8584\n",
            "Epoch 82/100\n",
            "32/32 [==============================] - 0s 2ms/step - loss: 0.1487 - accuracy: 0.8519 - val_loss: 0.1542 - val_accuracy: 0.8584\n",
            "Epoch 83/100\n",
            "32/32 [==============================] - 0s 2ms/step - loss: 0.1484 - accuracy: 0.8653 - val_loss: 0.1527 - val_accuracy: 0.8584\n",
            "Epoch 84/100\n",
            "32/32 [==============================] - 0s 2ms/step - loss: 0.1458 - accuracy: 0.8587 - val_loss: 0.1511 - val_accuracy: 0.8584\n",
            "Epoch 85/100\n",
            "32/32 [==============================] - 0s 2ms/step - loss: 0.1448 - accuracy: 0.8588 - val_loss: 0.1499 - val_accuracy: 0.8630\n",
            "Epoch 86/100\n",
            "32/32 [==============================] - 0s 2ms/step - loss: 0.1417 - accuracy: 0.8692 - val_loss: 0.1484 - val_accuracy: 0.8630\n",
            "Epoch 87/100\n",
            "32/32 [==============================] - 0s 2ms/step - loss: 0.1387 - accuracy: 0.8567 - val_loss: 0.1471 - val_accuracy: 0.8630\n",
            "Epoch 88/100\n",
            "32/32 [==============================] - 0s 2ms/step - loss: 0.1355 - accuracy: 0.8705 - val_loss: 0.1456 - val_accuracy: 0.8630\n",
            "Epoch 89/100\n",
            "32/32 [==============================] - 0s 2ms/step - loss: 0.1386 - accuracy: 0.8664 - val_loss: 0.1443 - val_accuracy: 0.8630\n",
            "Epoch 90/100\n",
            "32/32 [==============================] - 0s 2ms/step - loss: 0.1346 - accuracy: 0.8652 - val_loss: 0.1430 - val_accuracy: 0.8630\n",
            "Epoch 91/100\n",
            "32/32 [==============================] - 0s 2ms/step - loss: 0.1331 - accuracy: 0.8680 - val_loss: 0.1418 - val_accuracy: 0.8676\n",
            "Epoch 92/100\n",
            "32/32 [==============================] - 0s 3ms/step - loss: 0.1352 - accuracy: 0.8644 - val_loss: 0.1406 - val_accuracy: 0.8676\n",
            "Epoch 93/100\n",
            "32/32 [==============================] - 0s 2ms/step - loss: 0.1401 - accuracy: 0.8449 - val_loss: 0.1393 - val_accuracy: 0.8721\n",
            "Epoch 94/100\n",
            "32/32 [==============================] - 0s 2ms/step - loss: 0.1295 - accuracy: 0.8642 - val_loss: 0.1380 - val_accuracy: 0.8721\n",
            "Epoch 95/100\n",
            "32/32 [==============================] - 0s 2ms/step - loss: 0.1289 - accuracy: 0.8697 - val_loss: 0.1372 - val_accuracy: 0.8676\n",
            "Epoch 96/100\n",
            "32/32 [==============================] - 0s 2ms/step - loss: 0.1323 - accuracy: 0.8520 - val_loss: 0.1362 - val_accuracy: 0.8676\n",
            "Epoch 97/100\n",
            "32/32 [==============================] - 0s 2ms/step - loss: 0.1240 - accuracy: 0.8726 - val_loss: 0.1348 - val_accuracy: 0.8721\n",
            "Epoch 98/100\n",
            "32/32 [==============================] - 0s 2ms/step - loss: 0.1273 - accuracy: 0.8584 - val_loss: 0.1336 - val_accuracy: 0.8721\n",
            "Epoch 99/100\n",
            "32/32 [==============================] - 0s 2ms/step - loss: 0.1306 - accuracy: 0.8539 - val_loss: 0.1325 - val_accuracy: 0.8767\n",
            "Epoch 100/100\n",
            "32/32 [==============================] - 0s 2ms/step - loss: 0.1210 - accuracy: 0.8632 - val_loss: 0.1322 - val_accuracy: 0.8767\n"
          ],
          "name": "stdout"
        }
      ]
    },
    {
      "cell_type": "code",
      "metadata": {
        "id": "_MeGEoCr9hop",
        "colab": {
          "base_uri": "https://localhost:8080/"
        },
        "outputId": "6ac23920-06db-4900-b4e6-8ed5bf79c366"
      },
      "source": [
        "#Evaluating model on test dataset\n",
        "model.evaluate(X_test, Y_test)[1]"
      ],
      "execution_count": 38,
      "outputs": [
        {
          "output_type": "stream",
          "text": [
            "7/7 [==============================] - 0s 2ms/step - loss: 0.1110 - accuracy: 0.9178\n"
          ],
          "name": "stdout"
        },
        {
          "output_type": "execute_result",
          "data": {
            "text/plain": [
              "0.9178082346916199"
            ]
          },
          "metadata": {
            "tags": []
          },
          "execution_count": 38
        }
      ]
    },
    {
      "cell_type": "markdown",
      "metadata": {
        "id": "OeXiqrE_BCeC"
      },
      "source": [
        "**Visualizing Loss & Accuracy**"
      ]
    },
    {
      "cell_type": "code",
      "metadata": {
        "id": "LZq7ttd7BGsd"
      },
      "source": [
        "#Import library\n",
        "import matplotlib.pyplot as plt"
      ],
      "execution_count": 39,
      "outputs": []
    },
    {
      "cell_type": "code",
      "metadata": {
        "id": "_ug9DgTcBUYA",
        "colab": {
          "base_uri": "https://localhost:8080/",
          "height": 295
        },
        "outputId": "03de3153-cb3d-4b60-e69b-063bef21dff8"
      },
      "source": [
        "#Visualizing the loss of the model on the training and validation dataset\n",
        "plt.plot(hist.history['loss'])\n",
        "plt.plot(hist.history['val_loss'])\n",
        "plt.title('Model loss')\n",
        "plt.ylabel('Loss')\n",
        "plt.xlabel('Epoch')\n",
        "plt.legend(['Train', 'Val'], loc='upper right')\n",
        "plt.show()"
      ],
      "execution_count": 40,
      "outputs": [
        {
          "output_type": "display_data",
          "data": {
            "image/png": "[encoded data removed]",
            "text/plain": [
              "<Figure size 432x288 with 1 Axes>"
            ]
          },
          "metadata": {
            "tags": [],
            "needs_background": "light"
          }
        }
      ]
    },
    {
      "cell_type": "code",
      "metadata": {
        "id": "WthMllbfB-bE",
        "colab": {
          "base_uri": "https://localhost:8080/",
          "height": 295
        },
        "outputId": "adb31323-22bf-421f-8be3-539f5ff986f5"
      },
      "source": [
        "#Visualizing the accuracy of the model on the training and validation dataset\n",
        "plt.plot(hist.history['accuracy'])\n",
        "plt.plot(hist.history['val_accuracy'])\n",
        "plt.title('Model accuracy')\n",
        "plt.ylabel('Accuracy')\n",
        "plt.xlabel('Epoch')\n",
        "plt.legend(['Train', 'Val'], loc='lower right')\n",
        "plt.show()"
      ],
      "execution_count": 41,
      "outputs": [
        {
          "output_type": "display_data",
          "data": {
            "image/png": "[encoded data removed]",
            "text/plain": [
              "<Figure size 432x288 with 1 Axes>"
            ]
          },
          "metadata": {
            "tags": [],
            "needs_background": "light"
          }
        }
      ]
    },
    {
      "cell_type": "markdown",
      "metadata": {
        "id": "-eW_OJHNIAZJ"
      },
      "source": [
        "# Showcasing the Need for Regularization - Making Another Model"
      ]
    },
    {
      "cell_type": "code",
      "metadata": {
        "id": "8-_OqS0HIM1c"
      },
      "source": [
        "model_2 = Sequential([\n",
        "    Dense(1000, activation='relu', input_shape=(10,)),\n",
        "    Dense(1000, activation='relu'),\n",
        "    Dense(1000, activation='relu'),\n",
        "    Dense(1000, activation='relu'),\n",
        "    Dense(1, activation='sigmoid'),\n",
        "])"
      ],
      "execution_count": 42,
      "outputs": []
    },
    {
      "cell_type": "code",
      "metadata": {
        "id": "VuDwt3bkIRZ8"
      },
      "source": [
        "model_2.compile(optimizer='adam',\n",
        "              loss='binary_crossentropy',\n",
        "              metrics=['accuracy'])"
      ],
      "execution_count": 43,
      "outputs": []
    },
    {
      "cell_type": "code",
      "metadata": {
        "id": "OmQNz3urIWSh",
        "colab": {
          "base_uri": "https://localhost:8080/"
        },
        "outputId": "33bc3a60-38b8-46ad-ef47-20d1bec8f07d"
      },
      "source": [
        "hist_2 = model_2.fit(X_train, Y_train,\n",
        "          batch_size=32, epochs=100,\n",
        "          validation_data=(X_val, Y_val))"
      ],
      "execution_count": 44,
      "outputs": [
        {
          "output_type": "stream",
          "text": [
            "Epoch 1/100\n",
            "32/32 [==============================] - 2s 48ms/step - loss: 0.5753 - accuracy: 0.6966 - val_loss: 0.4894 - val_accuracy: 0.8219\n",
            "Epoch 2/100\n",
            "32/32 [==============================] - 1s 36ms/step - loss: 0.3814 - accuracy: 0.8317 - val_loss: 0.3639 - val_accuracy: 0.8311\n",
            "Epoch 3/100\n",
            "32/32 [==============================] - 1s 35ms/step - loss: 0.3120 - accuracy: 0.8604 - val_loss: 0.4030 - val_accuracy: 0.8584\n",
            "Epoch 4/100\n",
            "32/32 [==============================] - 1s 36ms/step - loss: 0.2721 - accuracy: 0.8795 - val_loss: 0.3567 - val_accuracy: 0.8493\n",
            "Epoch 5/100\n",
            "32/32 [==============================] - 1s 35ms/step - loss: 0.2512 - accuracy: 0.8856 - val_loss: 0.3893 - val_accuracy: 0.8584\n",
            "Epoch 6/100\n",
            "32/32 [==============================] - 1s 36ms/step - loss: 0.2569 - accuracy: 0.8868 - val_loss: 0.3105 - val_accuracy: 0.8721\n",
            "Epoch 7/100\n",
            "32/32 [==============================] - 1s 36ms/step - loss: 0.2515 - accuracy: 0.8997 - val_loss: 0.3327 - val_accuracy: 0.8630\n",
            "Epoch 8/100\n",
            "32/32 [==============================] - 1s 36ms/step - loss: 0.2517 - accuracy: 0.8893 - val_loss: 0.3054 - val_accuracy: 0.8721\n",
            "Epoch 9/100\n",
            "32/32 [==============================] - 1s 35ms/step - loss: 0.2622 - accuracy: 0.8829 - val_loss: 0.3457 - val_accuracy: 0.8767\n",
            "Epoch 10/100\n",
            "32/32 [==============================] - 1s 37ms/step - loss: 0.2396 - accuracy: 0.8889 - val_loss: 0.3162 - val_accuracy: 0.8904\n",
            "Epoch 11/100\n",
            "32/32 [==============================] - 1s 37ms/step - loss: 0.2147 - accuracy: 0.9154 - val_loss: 0.3110 - val_accuracy: 0.8676\n",
            "Epoch 12/100\n",
            "32/32 [==============================] - 1s 37ms/step - loss: 0.2187 - accuracy: 0.8987 - val_loss: 0.2850 - val_accuracy: 0.8995\n",
            "Epoch 13/100\n",
            "32/32 [==============================] - 1s 37ms/step - loss: 0.2393 - accuracy: 0.8987 - val_loss: 0.3067 - val_accuracy: 0.8904\n",
            "Epoch 14/100\n",
            "32/32 [==============================] - 1s 37ms/step - loss: 0.2143 - accuracy: 0.9020 - val_loss: 0.3394 - val_accuracy: 0.8630\n",
            "Epoch 15/100\n",
            "32/32 [==============================] - 1s 37ms/step - loss: 0.2084 - accuracy: 0.9024 - val_loss: 0.2961 - val_accuracy: 0.8767\n",
            "Epoch 16/100\n",
            "32/32 [==============================] - 1s 37ms/step - loss: 0.2050 - accuracy: 0.9156 - val_loss: 0.2788 - val_accuracy: 0.9087\n",
            "Epoch 17/100\n",
            "32/32 [==============================] - 1s 37ms/step - loss: 0.1856 - accuracy: 0.9182 - val_loss: 0.3438 - val_accuracy: 0.8676\n",
            "Epoch 18/100\n",
            "32/32 [==============================] - 1s 37ms/step - loss: 0.1946 - accuracy: 0.9171 - val_loss: 0.3080 - val_accuracy: 0.8904\n",
            "Epoch 19/100\n",
            "32/32 [==============================] - 1s 37ms/step - loss: 0.1810 - accuracy: 0.9294 - val_loss: 0.3073 - val_accuracy: 0.8995\n",
            "Epoch 20/100\n",
            "32/32 [==============================] - 1s 37ms/step - loss: 0.1887 - accuracy: 0.9190 - val_loss: 0.2929 - val_accuracy: 0.8950\n",
            "Epoch 21/100\n",
            "32/32 [==============================] - 1s 37ms/step - loss: 0.1733 - accuracy: 0.9262 - val_loss: 0.3188 - val_accuracy: 0.8630\n",
            "Epoch 22/100\n",
            "32/32 [==============================] - 1s 37ms/step - loss: 0.2118 - accuracy: 0.9002 - val_loss: 0.3129 - val_accuracy: 0.8813\n",
            "Epoch 23/100\n",
            "32/32 [==============================] - 1s 38ms/step - loss: 0.2391 - accuracy: 0.8941 - val_loss: 0.3143 - val_accuracy: 0.8630\n",
            "Epoch 24/100\n",
            "32/32 [==============================] - 1s 37ms/step - loss: 0.1863 - accuracy: 0.9155 - val_loss: 0.2895 - val_accuracy: 0.8904\n",
            "Epoch 25/100\n",
            "32/32 [==============================] - 1s 37ms/step - loss: 0.2007 - accuracy: 0.9077 - val_loss: 0.4312 - val_accuracy: 0.8767\n",
            "Epoch 26/100\n",
            "32/32 [==============================] - 1s 36ms/step - loss: 0.1996 - accuracy: 0.9121 - val_loss: 0.3001 - val_accuracy: 0.8904\n",
            "Epoch 27/100\n",
            "32/32 [==============================] - 1s 37ms/step - loss: 0.1683 - accuracy: 0.9305 - val_loss: 0.3498 - val_accuracy: 0.8950\n",
            "Epoch 28/100\n",
            "32/32 [==============================] - 1s 36ms/step - loss: 0.1936 - accuracy: 0.9242 - val_loss: 0.3149 - val_accuracy: 0.8858\n",
            "Epoch 29/100\n",
            "32/32 [==============================] - 1s 37ms/step - loss: 0.1974 - accuracy: 0.9137 - val_loss: 0.3726 - val_accuracy: 0.8995\n",
            "Epoch 30/100\n",
            "32/32 [==============================] - 1s 36ms/step - loss: 0.1718 - accuracy: 0.9294 - val_loss: 0.3183 - val_accuracy: 0.8904\n",
            "Epoch 31/100\n",
            "32/32 [==============================] - 1s 36ms/step - loss: 0.1708 - accuracy: 0.9399 - val_loss: 0.3515 - val_accuracy: 0.8813\n",
            "Epoch 32/100\n",
            "32/32 [==============================] - 1s 37ms/step - loss: 0.1966 - accuracy: 0.9158 - val_loss: 0.3223 - val_accuracy: 0.8721\n",
            "Epoch 33/100\n",
            "32/32 [==============================] - 1s 36ms/step - loss: 0.1859 - accuracy: 0.9264 - val_loss: 0.2993 - val_accuracy: 0.8950\n",
            "Epoch 34/100\n",
            "32/32 [==============================] - 1s 37ms/step - loss: 0.1956 - accuracy: 0.9152 - val_loss: 0.3295 - val_accuracy: 0.8858\n",
            "Epoch 35/100\n",
            "32/32 [==============================] - 1s 37ms/step - loss: 0.1524 - accuracy: 0.9248 - val_loss: 0.3194 - val_accuracy: 0.8995\n",
            "Epoch 36/100\n",
            "32/32 [==============================] - 1s 38ms/step - loss: 0.1515 - accuracy: 0.9370 - val_loss: 0.3110 - val_accuracy: 0.8630\n",
            "Epoch 37/100\n",
            "32/32 [==============================] - 1s 36ms/step - loss: 0.1585 - accuracy: 0.9314 - val_loss: 0.3755 - val_accuracy: 0.8813\n",
            "Epoch 38/100\n",
            "32/32 [==============================] - 1s 36ms/step - loss: 0.1417 - accuracy: 0.9387 - val_loss: 0.3189 - val_accuracy: 0.8767\n",
            "Epoch 39/100\n",
            "32/32 [==============================] - 1s 36ms/step - loss: 0.1644 - accuracy: 0.9286 - val_loss: 0.3999 - val_accuracy: 0.8584\n",
            "Epoch 40/100\n",
            "32/32 [==============================] - 1s 35ms/step - loss: 0.1843 - accuracy: 0.9219 - val_loss: 0.3951 - val_accuracy: 0.8676\n",
            "Epoch 41/100\n",
            "32/32 [==============================] - 1s 36ms/step - loss: 0.1750 - accuracy: 0.9223 - val_loss: 0.3539 - val_accuracy: 0.8402\n",
            "Epoch 42/100\n",
            "32/32 [==============================] - 1s 37ms/step - loss: 0.1683 - accuracy: 0.9212 - val_loss: 0.4105 - val_accuracy: 0.8858\n",
            "Epoch 43/100\n",
            "32/32 [==============================] - 1s 37ms/step - loss: 0.1419 - accuracy: 0.9373 - val_loss: 0.3520 - val_accuracy: 0.8813\n",
            "Epoch 44/100\n",
            "32/32 [==============================] - 1s 38ms/step - loss: 0.1400 - accuracy: 0.9506 - val_loss: 0.4077 - val_accuracy: 0.8676\n",
            "Epoch 45/100\n",
            "32/32 [==============================] - 1s 36ms/step - loss: 0.1638 - accuracy: 0.9382 - val_loss: 0.3077 - val_accuracy: 0.8676\n",
            "Epoch 46/100\n",
            "32/32 [==============================] - 1s 36ms/step - loss: 0.1648 - accuracy: 0.9256 - val_loss: 0.3626 - val_accuracy: 0.8767\n",
            "Epoch 47/100\n",
            "32/32 [==============================] - 1s 37ms/step - loss: 0.1539 - accuracy: 0.9290 - val_loss: 0.3560 - val_accuracy: 0.8858\n",
            "Epoch 48/100\n",
            "32/32 [==============================] - 1s 37ms/step - loss: 0.1496 - accuracy: 0.9438 - val_loss: 0.3670 - val_accuracy: 0.8630\n",
            "Epoch 49/100\n",
            "32/32 [==============================] - 1s 38ms/step - loss: 0.1482 - accuracy: 0.9275 - val_loss: 0.3775 - val_accuracy: 0.8904\n",
            "Epoch 50/100\n",
            "32/32 [==============================] - 1s 36ms/step - loss: 0.1560 - accuracy: 0.9256 - val_loss: 0.4456 - val_accuracy: 0.8721\n",
            "Epoch 51/100\n",
            "32/32 [==============================] - 1s 37ms/step - loss: 0.1423 - accuracy: 0.9352 - val_loss: 0.3401 - val_accuracy: 0.9041\n",
            "Epoch 52/100\n",
            "32/32 [==============================] - 1s 36ms/step - loss: 0.1791 - accuracy: 0.9264 - val_loss: 0.4187 - val_accuracy: 0.8904\n",
            "Epoch 53/100\n",
            "32/32 [==============================] - 1s 37ms/step - loss: 0.1783 - accuracy: 0.9172 - val_loss: 0.3556 - val_accuracy: 0.8858\n",
            "Epoch 54/100\n",
            "32/32 [==============================] - 1s 36ms/step - loss: 0.1617 - accuracy: 0.9261 - val_loss: 0.3904 - val_accuracy: 0.8767\n",
            "Epoch 55/100\n",
            "32/32 [==============================] - 1s 36ms/step - loss: 0.1438 - accuracy: 0.9310 - val_loss: 0.3707 - val_accuracy: 0.8995\n",
            "Epoch 56/100\n",
            "32/32 [==============================] - 1s 37ms/step - loss: 0.1653 - accuracy: 0.9307 - val_loss: 0.3938 - val_accuracy: 0.8311\n",
            "Epoch 57/100\n",
            "32/32 [==============================] - 1s 38ms/step - loss: 0.1350 - accuracy: 0.9447 - val_loss: 0.3798 - val_accuracy: 0.8813\n",
            "Epoch 58/100\n",
            "32/32 [==============================] - 1s 36ms/step - loss: 0.1375 - accuracy: 0.9377 - val_loss: 0.3840 - val_accuracy: 0.8630\n",
            "Epoch 59/100\n",
            "32/32 [==============================] - 1s 37ms/step - loss: 0.1444 - accuracy: 0.9296 - val_loss: 0.4326 - val_accuracy: 0.8813\n",
            "Epoch 60/100\n",
            "32/32 [==============================] - 1s 36ms/step - loss: 0.1155 - accuracy: 0.9521 - val_loss: 0.3690 - val_accuracy: 0.8402\n",
            "Epoch 61/100\n",
            "32/32 [==============================] - 1s 36ms/step - loss: 0.1556 - accuracy: 0.9434 - val_loss: 0.3275 - val_accuracy: 0.8676\n",
            "Epoch 62/100\n",
            "32/32 [==============================] - 1s 37ms/step - loss: 0.1322 - accuracy: 0.9379 - val_loss: 0.5198 - val_accuracy: 0.8676\n",
            "Epoch 63/100\n",
            "32/32 [==============================] - 1s 37ms/step - loss: 0.1651 - accuracy: 0.9266 - val_loss: 0.4102 - val_accuracy: 0.8630\n",
            "Epoch 64/100\n",
            "32/32 [==============================] - 1s 36ms/step - loss: 0.1576 - accuracy: 0.9234 - val_loss: 0.3557 - val_accuracy: 0.8950\n",
            "Epoch 65/100\n",
            "32/32 [==============================] - 1s 36ms/step - loss: 0.1376 - accuracy: 0.9482 - val_loss: 0.4089 - val_accuracy: 0.9087\n",
            "Epoch 66/100\n",
            "32/32 [==============================] - 1s 37ms/step - loss: 0.1340 - accuracy: 0.9464 - val_loss: 0.3581 - val_accuracy: 0.8767\n",
            "Epoch 67/100\n",
            "32/32 [==============================] - 1s 38ms/step - loss: 0.1333 - accuracy: 0.9436 - val_loss: 0.4095 - val_accuracy: 0.8904\n",
            "Epoch 68/100\n",
            "32/32 [==============================] - 1s 36ms/step - loss: 0.1323 - accuracy: 0.9373 - val_loss: 0.4136 - val_accuracy: 0.8858\n",
            "Epoch 69/100\n",
            "32/32 [==============================] - 1s 39ms/step - loss: 0.1168 - accuracy: 0.9505 - val_loss: 0.4453 - val_accuracy: 0.8493\n",
            "Epoch 70/100\n",
            "32/32 [==============================] - 1s 38ms/step - loss: 0.1641 - accuracy: 0.9221 - val_loss: 0.4000 - val_accuracy: 0.8904\n",
            "Epoch 71/100\n",
            "32/32 [==============================] - 1s 37ms/step - loss: 0.1370 - accuracy: 0.9463 - val_loss: 0.5791 - val_accuracy: 0.8767\n",
            "Epoch 72/100\n",
            "32/32 [==============================] - 1s 38ms/step - loss: 0.1328 - accuracy: 0.9434 - val_loss: 0.4341 - val_accuracy: 0.8676\n",
            "Epoch 73/100\n",
            "32/32 [==============================] - 1s 37ms/step - loss: 0.1336 - accuracy: 0.9411 - val_loss: 0.4188 - val_accuracy: 0.8676\n",
            "Epoch 74/100\n",
            "32/32 [==============================] - 1s 38ms/step - loss: 0.1184 - accuracy: 0.9515 - val_loss: 0.4497 - val_accuracy: 0.8676\n",
            "Epoch 75/100\n",
            "32/32 [==============================] - 1s 38ms/step - loss: 0.0892 - accuracy: 0.9653 - val_loss: 0.4744 - val_accuracy: 0.8447\n",
            "Epoch 76/100\n",
            "32/32 [==============================] - 1s 38ms/step - loss: 0.1464 - accuracy: 0.9411 - val_loss: 0.4467 - val_accuracy: 0.8676\n",
            "Epoch 77/100\n",
            "32/32 [==============================] - 1s 38ms/step - loss: 0.1812 - accuracy: 0.9194 - val_loss: 0.4010 - val_accuracy: 0.8584\n",
            "Epoch 78/100\n",
            "32/32 [==============================] - 1s 38ms/step - loss: 0.1414 - accuracy: 0.9432 - val_loss: 0.4052 - val_accuracy: 0.8584\n",
            "Epoch 79/100\n",
            "32/32 [==============================] - 1s 38ms/step - loss: 0.1288 - accuracy: 0.9415 - val_loss: 0.5520 - val_accuracy: 0.8676\n",
            "Epoch 80/100\n",
            "32/32 [==============================] - 1s 38ms/step - loss: 0.1270 - accuracy: 0.9487 - val_loss: 0.5250 - val_accuracy: 0.8584\n",
            "Epoch 81/100\n",
            "32/32 [==============================] - 1s 37ms/step - loss: 0.1320 - accuracy: 0.9470 - val_loss: 0.5098 - val_accuracy: 0.8447\n",
            "Epoch 82/100\n",
            "32/32 [==============================] - 1s 38ms/step - loss: 0.1196 - accuracy: 0.9494 - val_loss: 0.4537 - val_accuracy: 0.8630\n",
            "Epoch 83/100\n",
            "32/32 [==============================] - 1s 38ms/step - loss: 0.0986 - accuracy: 0.9530 - val_loss: 0.5344 - val_accuracy: 0.8584\n",
            "Epoch 84/100\n",
            "32/32 [==============================] - 1s 38ms/step - loss: 0.0977 - accuracy: 0.9559 - val_loss: 0.5256 - val_accuracy: 0.8539\n",
            "Epoch 85/100\n",
            "32/32 [==============================] - 1s 37ms/step - loss: 0.1154 - accuracy: 0.9453 - val_loss: 0.4254 - val_accuracy: 0.8767\n",
            "Epoch 86/100\n",
            "32/32 [==============================] - 1s 38ms/step - loss: 0.1208 - accuracy: 0.9614 - val_loss: 0.4243 - val_accuracy: 0.8721\n",
            "Epoch 87/100\n",
            "32/32 [==============================] - 1s 39ms/step - loss: 0.1233 - accuracy: 0.9574 - val_loss: 0.4889 - val_accuracy: 0.8721\n",
            "Epoch 88/100\n",
            "32/32 [==============================] - 1s 39ms/step - loss: 0.1115 - accuracy: 0.9494 - val_loss: 0.4108 - val_accuracy: 0.8630\n",
            "Epoch 89/100\n",
            "32/32 [==============================] - 1s 39ms/step - loss: 0.1059 - accuracy: 0.9589 - val_loss: 0.5937 - val_accuracy: 0.8539\n",
            "Epoch 90/100\n",
            "32/32 [==============================] - 1s 39ms/step - loss: 0.1127 - accuracy: 0.9461 - val_loss: 0.5000 - val_accuracy: 0.8584\n",
            "Epoch 91/100\n",
            "32/32 [==============================] - 1s 39ms/step - loss: 0.1374 - accuracy: 0.9408 - val_loss: 0.4074 - val_accuracy: 0.8676\n",
            "Epoch 92/100\n",
            "32/32 [==============================] - 1s 39ms/step - loss: 0.1068 - accuracy: 0.9649 - val_loss: 0.5689 - val_accuracy: 0.8813\n",
            "Epoch 93/100\n",
            "32/32 [==============================] - 1s 39ms/step - loss: 0.0999 - accuracy: 0.9596 - val_loss: 0.5570 - val_accuracy: 0.8813\n",
            "Epoch 94/100\n",
            "32/32 [==============================] - 1s 40ms/step - loss: 0.0956 - accuracy: 0.9665 - val_loss: 0.5842 - val_accuracy: 0.8630\n",
            "Epoch 95/100\n",
            "32/32 [==============================] - 1s 39ms/step - loss: 0.1047 - accuracy: 0.9612 - val_loss: 0.4963 - val_accuracy: 0.8904\n",
            "Epoch 96/100\n",
            "32/32 [==============================] - 1s 39ms/step - loss: 0.0964 - accuracy: 0.9617 - val_loss: 0.5332 - val_accuracy: 0.8813\n",
            "Epoch 97/100\n",
            "32/32 [==============================] - 1s 38ms/step - loss: 0.0862 - accuracy: 0.9734 - val_loss: 0.5537 - val_accuracy: 0.8767\n",
            "Epoch 98/100\n",
            "32/32 [==============================] - 1s 38ms/step - loss: 0.1012 - accuracy: 0.9562 - val_loss: 0.4689 - val_accuracy: 0.8721\n",
            "Epoch 99/100\n",
            "32/32 [==============================] - 1s 38ms/step - loss: 0.0914 - accuracy: 0.9656 - val_loss: 0.5789 - val_accuracy: 0.8676\n",
            "Epoch 100/100\n",
            "32/32 [==============================] - 1s 38ms/step - loss: 0.1100 - accuracy: 0.9587 - val_loss: 0.6215 - val_accuracy: 0.8767\n"
          ],
          "name": "stdout"
        }
      ]
    },
    {
      "cell_type": "code",
      "metadata": {
        "id": "4DSI7kgJIW9L",
        "colab": {
          "base_uri": "https://localhost:8080/",
          "height": 295
        },
        "outputId": "d80cf87b-bacc-452b-85ff-5d565c8b206f"
      },
      "source": [
        "plt.plot(hist_2.history['loss'])\n",
        "plt.plot(hist_2.history['val_loss'])\n",
        "plt.title('Model loss')\n",
        "plt.ylabel('Loss')\n",
        "plt.xlabel('Epoch')\n",
        "plt.legend(['Train', 'Val'], loc='upper right')\n",
        "plt.show()"
      ],
      "execution_count": 45,
      "outputs": [
        {
          "output_type": "display_data",
          "data": {
            "image/png": "[encoded data removed]",
            "text/plain": [
              "<Figure size 432x288 with 1 Axes>"
            ]
          },
          "metadata": {
            "tags": [],
            "needs_background": "light"
          }
        }
      ]
    },
    {
      "cell_type": "code",
      "metadata": {
        "id": "lyQzyB0NJAQj",
        "colab": {
          "base_uri": "https://localhost:8080/",
          "height": 295
        },
        "outputId": "cdbac0be-cb44-402f-b5b6-1940da225419"
      },
      "source": [
        "plt.plot(hist_2.history['accuracy'])\n",
        "plt.plot(hist_2.history['val_accuracy'])\n",
        "plt.title('Model accuracy')\n",
        "plt.ylabel('Accuracy')\n",
        "plt.xlabel('Epoch')\n",
        "plt.legend(['Train', 'Val'], loc='lower right')\n",
        "plt.show()"
      ],
      "execution_count": 46,
      "outputs": [
        {
          "output_type": "display_data",
          "data": {
            "image/png": "[encoded data removed]",
            "text/plain": [
              "<Figure size 432x288 with 1 Axes>"
            ]
          },
          "metadata": {
            "tags": [],
            "needs_background": "light"
          }
        }
      ]
    },
    {
      "cell_type": "markdown",
      "metadata": {
        "id": "w_MwY7dHJXpj"
      },
      "source": [
        "# Additional Model to Reduce the Over-Fitting in Model 2"
      ]
    },
    {
      "cell_type": "code",
      "metadata": {
        "id": "vOwj4sJfJcAc"
      },
      "source": [
        "from keras.layers import Dropout\n",
        "from keras import regularizers"
      ],
      "execution_count": 47,
      "outputs": []
    },
    {
      "cell_type": "code",
      "metadata": {
        "id": "aEs9gBFDJd8I"
      },
      "source": [
        "model_3 = Sequential([\n",
        "    Dense(1000, activation='relu', kernel_regularizer=regularizers.l2(0.01), input_shape=(10,)),\n",
        "    Dropout(0.3),\n",
        "    Dense(1000, activation='relu', kernel_regularizer=regularizers.l2(0.01)),\n",
        "    Dropout(0.3),\n",
        "    Dense(1000, activation='relu', kernel_regularizer=regularizers.l2(0.01)),\n",
        "    Dropout(0.3),\n",
        "    Dense(1000, activation='relu', kernel_regularizer=regularizers.l2(0.01)),\n",
        "    Dropout(0.3),\n",
        "    Dense(1, activation='sigmoid', kernel_regularizer=regularizers.l2(0.01)),\n",
        "])"
      ],
      "execution_count": 48,
      "outputs": []
    },
    {
      "cell_type": "code",
      "metadata": {
        "id": "Rh5XYQy0Jtzi"
      },
      "source": [
        "model_3.compile(optimizer='adam',\n",
        "              loss='binary_crossentropy',\n",
        "              metrics=['accuracy'])"
      ],
      "execution_count": 49,
      "outputs": []
    },
    {
      "cell_type": "code",
      "metadata": {
        "colab": {
          "base_uri": "https://localhost:8080/"
        },
        "id": "SuxsqwQ3JwF-",
        "outputId": "0e603519-9188-4903-9cc4-a9995b289021"
      },
      "source": [
        "hist_3 = model_3.fit(X_train, Y_train,\n",
        "          batch_size=32, epochs=100,\n",
        "          validation_data=(X_val, Y_val))"
      ],
      "execution_count": 50,
      "outputs": [
        {
          "output_type": "stream",
          "text": [
            "Epoch 1/100\n",
            "32/32 [==============================] - 4s 63ms/step - loss: 21.1147 - accuracy: 0.5934 - val_loss: 3.9122 - val_accuracy: 0.8311\n",
            "Epoch 2/100\n",
            "32/32 [==============================] - 2s 48ms/step - loss: 2.4752 - accuracy: 0.8434 - val_loss: 0.7159 - val_accuracy: 0.8128\n",
            "Epoch 3/100\n",
            "32/32 [==============================] - 2s 48ms/step - loss: 0.6368 - accuracy: 0.8316 - val_loss: 0.5413 - val_accuracy: 0.8539\n",
            "Epoch 4/100\n",
            "32/32 [==============================] - 2s 47ms/step - loss: 0.5648 - accuracy: 0.8349 - val_loss: 0.5129 - val_accuracy: 0.8539\n",
            "Epoch 5/100\n",
            "32/32 [==============================] - 2s 48ms/step - loss: 0.5025 - accuracy: 0.8691 - val_loss: 0.5083 - val_accuracy: 0.8584\n",
            "Epoch 6/100\n",
            "32/32 [==============================] - 2s 48ms/step - loss: 0.5187 - accuracy: 0.8577 - val_loss: 0.5041 - val_accuracy: 0.8493\n",
            "Epoch 7/100\n",
            "32/32 [==============================] - 2s 49ms/step - loss: 0.4828 - accuracy: 0.8731 - val_loss: 0.5131 - val_accuracy: 0.8539\n",
            "Epoch 8/100\n",
            "32/32 [==============================] - 1s 47ms/step - loss: 0.4622 - accuracy: 0.8747 - val_loss: 0.4697 - val_accuracy: 0.8904\n",
            "Epoch 9/100\n",
            "32/32 [==============================] - 2s 47ms/step - loss: 0.4919 - accuracy: 0.8661 - val_loss: 0.4902 - val_accuracy: 0.8493\n",
            "Epoch 10/100\n",
            "32/32 [==============================] - 2s 47ms/step - loss: 0.4699 - accuracy: 0.8674 - val_loss: 0.4618 - val_accuracy: 0.8904\n",
            "Epoch 11/100\n",
            "32/32 [==============================] - 1s 47ms/step - loss: 0.5394 - accuracy: 0.8330 - val_loss: 0.4676 - val_accuracy: 0.8904\n",
            "Epoch 12/100\n",
            "32/32 [==============================] - 1s 46ms/step - loss: 0.4777 - accuracy: 0.8486 - val_loss: 0.4958 - val_accuracy: 0.8539\n",
            "Epoch 13/100\n",
            "32/32 [==============================] - 2s 48ms/step - loss: 0.4638 - accuracy: 0.8659 - val_loss: 0.4797 - val_accuracy: 0.8630\n",
            "Epoch 14/100\n",
            "32/32 [==============================] - 2s 47ms/step - loss: 0.4588 - accuracy: 0.8827 - val_loss: 0.4499 - val_accuracy: 0.8950\n",
            "Epoch 15/100\n",
            "32/32 [==============================] - 1s 47ms/step - loss: 0.4442 - accuracy: 0.8839 - val_loss: 0.4941 - val_accuracy: 0.8493\n",
            "Epoch 16/100\n",
            "32/32 [==============================] - 2s 47ms/step - loss: 0.4599 - accuracy: 0.8690 - val_loss: 0.4821 - val_accuracy: 0.8584\n",
            "Epoch 17/100\n",
            "32/32 [==============================] - 2s 47ms/step - loss: 0.4352 - accuracy: 0.8810 - val_loss: 0.5079 - val_accuracy: 0.8265\n",
            "Epoch 18/100\n",
            "32/32 [==============================] - 2s 49ms/step - loss: 0.4624 - accuracy: 0.8720 - val_loss: 0.4490 - val_accuracy: 0.8904\n",
            "Epoch 19/100\n",
            "32/32 [==============================] - 1s 47ms/step - loss: 0.4493 - accuracy: 0.8845 - val_loss: 0.4898 - val_accuracy: 0.8447\n",
            "Epoch 20/100\n",
            "32/32 [==============================] - 2s 50ms/step - loss: 0.4659 - accuracy: 0.8547 - val_loss: 0.4542 - val_accuracy: 0.8676\n",
            "Epoch 21/100\n",
            "32/32 [==============================] - 2s 49ms/step - loss: 0.4450 - accuracy: 0.8875 - val_loss: 0.4455 - val_accuracy: 0.8904\n",
            "Epoch 22/100\n",
            "32/32 [==============================] - 1s 47ms/step - loss: 0.4762 - accuracy: 0.8682 - val_loss: 0.4434 - val_accuracy: 0.9041\n",
            "Epoch 23/100\n",
            "32/32 [==============================] - 2s 48ms/step - loss: 0.4550 - accuracy: 0.8632 - val_loss: 0.4449 - val_accuracy: 0.8995\n",
            "Epoch 24/100\n",
            "32/32 [==============================] - 2s 48ms/step - loss: 0.4684 - accuracy: 0.8713 - val_loss: 0.4497 - val_accuracy: 0.8858\n",
            "Epoch 25/100\n",
            "32/32 [==============================] - 2s 48ms/step - loss: 0.4602 - accuracy: 0.8832 - val_loss: 0.5005 - val_accuracy: 0.8356\n",
            "Epoch 26/100\n",
            "32/32 [==============================] - 2s 49ms/step - loss: 0.4471 - accuracy: 0.8806 - val_loss: 0.4427 - val_accuracy: 0.8950\n",
            "Epoch 27/100\n",
            "32/32 [==============================] - 2s 50ms/step - loss: 0.4322 - accuracy: 0.8708 - val_loss: 0.4397 - val_accuracy: 0.8995\n",
            "Epoch 28/100\n",
            "32/32 [==============================] - 2s 48ms/step - loss: 0.4552 - accuracy: 0.8647 - val_loss: 0.5179 - val_accuracy: 0.8311\n",
            "Epoch 29/100\n",
            "32/32 [==============================] - 1s 47ms/step - loss: 0.4982 - accuracy: 0.8564 - val_loss: 0.4437 - val_accuracy: 0.8858\n",
            "Epoch 30/100\n",
            "32/32 [==============================] - 2s 48ms/step - loss: 0.4321 - accuracy: 0.8743 - val_loss: 0.4511 - val_accuracy: 0.8630\n",
            "Epoch 31/100\n",
            "32/32 [==============================] - 2s 49ms/step - loss: 0.4292 - accuracy: 0.8809 - val_loss: 0.4461 - val_accuracy: 0.8904\n",
            "Epoch 32/100\n",
            "32/32 [==============================] - 2s 49ms/step - loss: 0.4299 - accuracy: 0.8908 - val_loss: 0.4431 - val_accuracy: 0.8950\n",
            "Epoch 33/100\n",
            "32/32 [==============================] - 2s 51ms/step - loss: 0.4388 - accuracy: 0.8642 - val_loss: 0.4642 - val_accuracy: 0.8767\n",
            "Epoch 34/100\n",
            "32/32 [==============================] - 2s 49ms/step - loss: 0.4238 - accuracy: 0.8821 - val_loss: 0.4517 - val_accuracy: 0.8630\n",
            "Epoch 35/100\n",
            "32/32 [==============================] - 2s 49ms/step - loss: 0.4637 - accuracy: 0.8583 - val_loss: 0.5042 - val_accuracy: 0.8402\n",
            "Epoch 36/100\n",
            "32/32 [==============================] - 2s 51ms/step - loss: 0.4672 - accuracy: 0.8695 - val_loss: 0.4425 - val_accuracy: 0.8858\n",
            "Epoch 37/100\n",
            "32/32 [==============================] - 2s 50ms/step - loss: 0.4279 - accuracy: 0.8792 - val_loss: 0.4424 - val_accuracy: 0.8950\n",
            "Epoch 38/100\n",
            "32/32 [==============================] - 2s 49ms/step - loss: 0.4546 - accuracy: 0.8713 - val_loss: 0.4445 - val_accuracy: 0.9041\n",
            "Epoch 39/100\n",
            "32/32 [==============================] - 2s 50ms/step - loss: 0.4179 - accuracy: 0.8813 - val_loss: 0.4803 - val_accuracy: 0.8539\n",
            "Epoch 40/100\n",
            "32/32 [==============================] - 2s 50ms/step - loss: 0.4606 - accuracy: 0.8795 - val_loss: 0.4432 - val_accuracy: 0.8995\n",
            "Epoch 41/100\n",
            "32/32 [==============================] - 2s 48ms/step - loss: 0.4601 - accuracy: 0.8836 - val_loss: 0.4404 - val_accuracy: 0.8950\n",
            "Epoch 42/100\n",
            "32/32 [==============================] - 2s 50ms/step - loss: 0.4484 - accuracy: 0.8632 - val_loss: 0.4367 - val_accuracy: 0.8858\n",
            "Epoch 43/100\n",
            "32/32 [==============================] - 2s 51ms/step - loss: 0.4423 - accuracy: 0.8846 - val_loss: 0.4489 - val_accuracy: 0.8858\n",
            "Epoch 44/100\n",
            "32/32 [==============================] - 2s 50ms/step - loss: 0.4477 - accuracy: 0.8753 - val_loss: 0.4349 - val_accuracy: 0.8995\n",
            "Epoch 45/100\n",
            "32/32 [==============================] - 2s 51ms/step - loss: 0.4634 - accuracy: 0.8636 - val_loss: 0.4897 - val_accuracy: 0.8356\n",
            "Epoch 46/100\n",
            "32/32 [==============================] - 2s 50ms/step - loss: 0.4349 - accuracy: 0.8788 - val_loss: 0.4977 - val_accuracy: 0.8402\n",
            "Epoch 47/100\n",
            "32/32 [==============================] - 2s 51ms/step - loss: 0.4444 - accuracy: 0.8699 - val_loss: 0.4491 - val_accuracy: 0.8630\n",
            "Epoch 48/100\n",
            "32/32 [==============================] - 2s 48ms/step - loss: 0.4184 - accuracy: 0.8745 - val_loss: 0.4368 - val_accuracy: 0.8950\n",
            "Epoch 49/100\n",
            "32/32 [==============================] - 2s 48ms/step - loss: 0.4287 - accuracy: 0.8866 - val_loss: 0.4431 - val_accuracy: 0.8858\n",
            "Epoch 50/100\n",
            "32/32 [==============================] - 2s 48ms/step - loss: 0.4303 - accuracy: 0.8705 - val_loss: 0.4522 - val_accuracy: 0.8539\n",
            "Epoch 51/100\n",
            "32/32 [==============================] - 2s 49ms/step - loss: 0.4162 - accuracy: 0.8811 - val_loss: 0.4800 - val_accuracy: 0.8539\n",
            "Epoch 52/100\n",
            "32/32 [==============================] - 2s 51ms/step - loss: 0.4684 - accuracy: 0.8586 - val_loss: 0.4534 - val_accuracy: 0.8676\n",
            "Epoch 53/100\n",
            "32/32 [==============================] - 2s 49ms/step - loss: 0.4476 - accuracy: 0.8807 - val_loss: 0.4600 - val_accuracy: 0.8402\n",
            "Epoch 54/100\n",
            "32/32 [==============================] - 2s 49ms/step - loss: 0.4295 - accuracy: 0.8736 - val_loss: 0.4375 - val_accuracy: 0.9041\n",
            "Epoch 55/100\n",
            "32/32 [==============================] - 2s 49ms/step - loss: 0.4379 - accuracy: 0.8903 - val_loss: 0.4422 - val_accuracy: 0.8995\n",
            "Epoch 56/100\n",
            "32/32 [==============================] - 2s 49ms/step - loss: 0.4369 - accuracy: 0.8797 - val_loss: 0.4623 - val_accuracy: 0.8356\n",
            "Epoch 57/100\n",
            "32/32 [==============================] - 2s 49ms/step - loss: 0.4213 - accuracy: 0.8891 - val_loss: 0.4372 - val_accuracy: 0.8904\n",
            "Epoch 58/100\n",
            "32/32 [==============================] - 2s 49ms/step - loss: 0.4225 - accuracy: 0.8963 - val_loss: 0.4376 - val_accuracy: 0.8995\n",
            "Epoch 59/100\n",
            "32/32 [==============================] - 2s 51ms/step - loss: 0.4374 - accuracy: 0.8799 - val_loss: 0.4564 - val_accuracy: 0.8356\n",
            "Epoch 60/100\n",
            "32/32 [==============================] - 2s 50ms/step - loss: 0.4328 - accuracy: 0.8856 - val_loss: 0.4365 - val_accuracy: 0.8950\n",
            "Epoch 61/100\n",
            "32/32 [==============================] - 2s 49ms/step - loss: 0.4195 - accuracy: 0.8876 - val_loss: 0.4631 - val_accuracy: 0.8630\n",
            "Epoch 62/100\n",
            "32/32 [==============================] - 2s 48ms/step - loss: 0.4310 - accuracy: 0.8765 - val_loss: 0.4352 - val_accuracy: 0.8995\n",
            "Epoch 63/100\n",
            "32/32 [==============================] - 2s 48ms/step - loss: 0.4297 - accuracy: 0.8827 - val_loss: 0.5093 - val_accuracy: 0.8356\n",
            "Epoch 64/100\n",
            "32/32 [==============================] - 2s 49ms/step - loss: 0.4251 - accuracy: 0.8949 - val_loss: 0.4534 - val_accuracy: 0.8630\n",
            "Epoch 65/100\n",
            "32/32 [==============================] - 2s 50ms/step - loss: 0.4359 - accuracy: 0.8956 - val_loss: 0.4657 - val_accuracy: 0.8356\n",
            "Epoch 66/100\n",
            "32/32 [==============================] - 2s 49ms/step - loss: 0.4271 - accuracy: 0.8733 - val_loss: 0.4439 - val_accuracy: 0.9041\n",
            "Epoch 67/100\n",
            "32/32 [==============================] - 2s 49ms/step - loss: 0.4403 - accuracy: 0.8823 - val_loss: 0.5102 - val_accuracy: 0.8311\n",
            "Epoch 68/100\n",
            "32/32 [==============================] - 2s 48ms/step - loss: 0.4829 - accuracy: 0.8519 - val_loss: 0.5611 - val_accuracy: 0.8356\n",
            "Epoch 69/100\n",
            "32/32 [==============================] - 2s 49ms/step - loss: 0.5044 - accuracy: 0.8320 - val_loss: 0.4463 - val_accuracy: 0.8767\n",
            "Epoch 70/100\n",
            "32/32 [==============================] - 2s 47ms/step - loss: 0.4342 - accuracy: 0.8810 - val_loss: 0.4686 - val_accuracy: 0.8630\n",
            "Epoch 71/100\n",
            "32/32 [==============================] - 2s 51ms/step - loss: 0.4650 - accuracy: 0.8652 - val_loss: 0.4516 - val_accuracy: 0.8858\n",
            "Epoch 72/100\n",
            "32/32 [==============================] - 2s 51ms/step - loss: 0.4227 - accuracy: 0.8918 - val_loss: 0.4815 - val_accuracy: 0.8539\n",
            "Epoch 73/100\n",
            "32/32 [==============================] - 2s 50ms/step - loss: 0.4532 - accuracy: 0.8611 - val_loss: 0.4662 - val_accuracy: 0.8630\n",
            "Epoch 74/100\n",
            "32/32 [==============================] - 2s 50ms/step - loss: 0.4590 - accuracy: 0.8594 - val_loss: 0.4361 - val_accuracy: 0.8995\n",
            "Epoch 75/100\n",
            "32/32 [==============================] - 2s 50ms/step - loss: 0.4416 - accuracy: 0.8642 - val_loss: 0.4382 - val_accuracy: 0.9041\n",
            "Epoch 76/100\n",
            "32/32 [==============================] - 2s 51ms/step - loss: 0.4283 - accuracy: 0.8909 - val_loss: 0.4351 - val_accuracy: 0.8950\n",
            "Epoch 77/100\n",
            "32/32 [==============================] - 2s 52ms/step - loss: 0.4235 - accuracy: 0.8861 - val_loss: 0.4567 - val_accuracy: 0.8813\n",
            "Epoch 78/100\n",
            "32/32 [==============================] - 2s 52ms/step - loss: 0.4463 - accuracy: 0.8655 - val_loss: 0.4360 - val_accuracy: 0.8813\n",
            "Epoch 79/100\n",
            "32/32 [==============================] - 2s 54ms/step - loss: 0.4280 - accuracy: 0.8810 - val_loss: 0.4359 - val_accuracy: 0.8995\n",
            "Epoch 80/100\n",
            "32/32 [==============================] - 2s 54ms/step - loss: 0.4166 - accuracy: 0.8939 - val_loss: 0.4335 - val_accuracy: 0.8904\n",
            "Epoch 81/100\n",
            "32/32 [==============================] - 2s 51ms/step - loss: 0.4531 - accuracy: 0.8539 - val_loss: 0.4350 - val_accuracy: 0.8995\n",
            "Epoch 82/100\n",
            "32/32 [==============================] - 2s 51ms/step - loss: 0.4228 - accuracy: 0.8846 - val_loss: 0.4339 - val_accuracy: 0.8995\n",
            "Epoch 83/100\n",
            "32/32 [==============================] - 2s 56ms/step - loss: 0.4207 - accuracy: 0.8852 - val_loss: 0.4672 - val_accuracy: 0.8630\n",
            "Epoch 84/100\n",
            "32/32 [==============================] - 2s 55ms/step - loss: 0.4458 - accuracy: 0.8656 - val_loss: 0.4394 - val_accuracy: 0.8813\n",
            "Epoch 85/100\n",
            "32/32 [==============================] - 2s 53ms/step - loss: 0.4419 - accuracy: 0.8663 - val_loss: 0.4427 - val_accuracy: 0.8767\n",
            "Epoch 86/100\n",
            "32/32 [==============================] - 2s 49ms/step - loss: 0.4239 - accuracy: 0.8827 - val_loss: 0.4519 - val_accuracy: 0.8858\n",
            "Epoch 87/100\n",
            "32/32 [==============================] - 2s 51ms/step - loss: 0.4272 - accuracy: 0.8788 - val_loss: 0.4384 - val_accuracy: 0.8995\n",
            "Epoch 88/100\n",
            "32/32 [==============================] - 2s 51ms/step - loss: 0.4605 - accuracy: 0.8642 - val_loss: 0.4533 - val_accuracy: 0.8584\n",
            "Epoch 89/100\n",
            "32/32 [==============================] - 2s 52ms/step - loss: 0.4730 - accuracy: 0.8773 - val_loss: 0.4444 - val_accuracy: 0.8995\n",
            "Epoch 90/100\n",
            "32/32 [==============================] - 2s 53ms/step - loss: 0.4272 - accuracy: 0.8829 - val_loss: 0.4617 - val_accuracy: 0.8356\n",
            "Epoch 91/100\n",
            "32/32 [==============================] - 2s 50ms/step - loss: 0.4536 - accuracy: 0.8676 - val_loss: 0.4375 - val_accuracy: 0.9041\n",
            "Epoch 92/100\n",
            "32/32 [==============================] - 2s 51ms/step - loss: 0.4172 - accuracy: 0.8867 - val_loss: 0.4342 - val_accuracy: 0.8950\n",
            "Epoch 93/100\n",
            "32/32 [==============================] - 2s 51ms/step - loss: 0.4076 - accuracy: 0.8973 - val_loss: 0.4348 - val_accuracy: 0.8950\n",
            "Epoch 94/100\n",
            "32/32 [==============================] - 2s 49ms/step - loss: 0.4347 - accuracy: 0.8726 - val_loss: 0.5358 - val_accuracy: 0.8265\n",
            "Epoch 95/100\n",
            "32/32 [==============================] - 2s 50ms/step - loss: 0.4467 - accuracy: 0.8598 - val_loss: 0.4332 - val_accuracy: 0.8858\n",
            "Epoch 96/100\n",
            "32/32 [==============================] - 2s 52ms/step - loss: 0.4213 - accuracy: 0.8737 - val_loss: 0.4561 - val_accuracy: 0.8493\n",
            "Epoch 97/100\n",
            "32/32 [==============================] - 2s 51ms/step - loss: 0.4658 - accuracy: 0.8735 - val_loss: 0.4350 - val_accuracy: 0.8904\n",
            "Epoch 98/100\n",
            "32/32 [==============================] - 2s 52ms/step - loss: 0.4387 - accuracy: 0.8754 - val_loss: 0.4392 - val_accuracy: 0.8858\n",
            "Epoch 99/100\n",
            "32/32 [==============================] - 2s 50ms/step - loss: 0.4556 - accuracy: 0.8769 - val_loss: 0.4367 - val_accuracy: 0.9041\n",
            "Epoch 100/100\n",
            "32/32 [==============================] - 2s 48ms/step - loss: 0.4167 - accuracy: 0.8969 - val_loss: 0.4347 - val_accuracy: 0.8950\n"
          ],
          "name": "stdout"
        }
      ]
    },
    {
      "cell_type": "code",
      "metadata": {
        "id": "2y0SCwg0J0-x",
        "colab": {
          "base_uri": "https://localhost:8080/",
          "height": 295
        },
        "outputId": "a46ede1c-6da9-47d8-8166-71d416dd966f"
      },
      "source": [
        "plt.plot(hist_3.history['loss'])\n",
        "plt.plot(hist_3.history['val_loss'])\n",
        "plt.title('Model loss')\n",
        "plt.ylabel('Loss')\n",
        "plt.xlabel('Epoch')\n",
        "plt.legend(['Train', 'Val'], loc='upper right')\n",
        "plt.ylim(top=1.2, bottom=0)\n",
        "plt.show()"
      ],
      "execution_count": 51,
      "outputs": [
        {
          "output_type": "display_data",
          "data": {
            "image/png": "[encoded data removed]",
            "text/plain": [
              "<Figure size 432x288 with 1 Axes>"
            ]
          },
          "metadata": {
            "tags": [],
            "needs_background": "light"
          }
        }
      ]
    },
    {
      "cell_type": "code",
      "metadata": {
        "id": "N5-6m0q-KzaD",
        "colab": {
          "base_uri": "https://localhost:8080/",
          "height": 295
        },
        "outputId": "4fcae71d-22f2-4cbc-8f6c-dc724397629e"
      },
      "source": [
        "plt.plot(hist_3.history['accuracy'])\n",
        "plt.plot(hist_3.history['val_accuracy'])\n",
        "plt.title('Model accuracy')\n",
        "plt.ylabel('Accuracy')\n",
        "plt.xlabel('Epoch')\n",
        "plt.legend(['Train', 'Val'], loc='lower right')\n",
        "plt.show()"
      ],
      "execution_count": 52,
      "outputs": [
        {
          "output_type": "display_data",
          "data": {
            "image/png": "[encoded data removed]",
            "text/plain": [
              "<Figure size 432x288 with 1 Axes>"
            ]
          },
          "metadata": {
            "tags": [],
            "needs_background": "light"
          }
        }
      ]
    }
  ]
}